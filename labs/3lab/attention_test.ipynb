{
 "cells": [
  {
   "cell_type": "code",
   "execution_count": 1,
   "metadata": {},
   "outputs": [],
   "source": [
    "import torch"
   ]
  },
  {
   "cell_type": "code",
   "execution_count": 2,
   "metadata": {},
   "outputs": [
    {
     "data": {
      "text/plain": [
       "tensor([[4, 3, 3, 2, 1, 1, 3, 2, 1, 3],\n",
       "        [3, 0, 0, 0, 4, 0, 4, 0, 2, 1],\n",
       "        [3, 3, 0, 3, 4, 2, 1, 1, 3, 4],\n",
       "        [2, 0, 1, 0, 0, 3, 3, 0, 4, 1],\n",
       "        [4, 2, 2, 4, 2, 0, 3, 4, 2, 0]])"
      ]
     },
     "execution_count": 2,
     "metadata": {},
     "output_type": "execute_result"
    }
   ],
   "source": [
    "h = torch.randint(0, 5, (5, 10))\n",
    "h"
   ]
  },
  {
   "cell_type": "code",
   "execution_count": 3,
   "metadata": {},
   "outputs": [
    {
     "data": {
      "text/plain": [
       "tensor([[[4, 2, 4, 2, 3, 4, 0, 4, 0, 1],\n",
       "         [1, 3, 4, 1, 0, 2, 3, 0, 0, 0],\n",
       "         [3, 2, 1, 0, 2, 0, 0, 3, 4, 4]],\n",
       "\n",
       "        [[4, 2, 2, 2, 1, 1, 1, 4, 3, 0],\n",
       "         [0, 0, 3, 0, 3, 1, 0, 1, 3, 4],\n",
       "         [0, 0, 4, 2, 1, 1, 4, 1, 4, 0]],\n",
       "\n",
       "        [[0, 0, 1, 2, 2, 2, 4, 1, 4, 2],\n",
       "         [0, 4, 4, 2, 3, 4, 0, 1, 3, 1],\n",
       "         [1, 2, 4, 4, 0, 2, 3, 2, 1, 3]],\n",
       "\n",
       "        [[1, 4, 4, 1, 3, 4, 3, 3, 4, 0],\n",
       "         [3, 4, 2, 3, 2, 2, 0, 3, 1, 1],\n",
       "         [4, 0, 3, 0, 2, 0, 0, 4, 1, 1]],\n",
       "\n",
       "        [[4, 0, 2, 4, 0, 2, 0, 4, 1, 4],\n",
       "         [0, 3, 0, 4, 2, 4, 0, 4, 1, 4],\n",
       "         [2, 0, 0, 2, 3, 1, 0, 2, 4, 0]]])"
      ]
     },
     "execution_count": 3,
     "metadata": {},
     "output_type": "execute_result"
    }
   ],
   "source": [
    "# encoder_out: [batch_size x seq_size x hidden_size]\n",
    "encoder_out = torch.randint(0, 5, (5, 3, 10))\n",
    "encoder_out"
   ]
  },
  {
   "cell_type": "code",
   "execution_count": 4,
   "metadata": {},
   "outputs": [
    {
     "data": {
      "text/plain": [
       "tensor([[56., 38., 45.],\n",
       "        [26., 22., 28.],\n",
       "        [43., 52., 45.],\n",
       "        [43., 19., 16.],\n",
       "        [54., 44., 38.]])"
      ]
     },
     "execution_count": 4,
     "metadata": {},
     "output_type": "execute_result"
    }
   ],
   "source": [
    "dot_product = torch.sum(encoder_out * h.unsqueeze(1), axis=2, dtype=torch.float32)\n",
    "dot_product"
   ]
  },
  {
   "cell_type": "code",
   "execution_count": 5,
   "metadata": {},
   "outputs": [
    {
     "data": {
      "text/plain": [
       "tensor([[9.9998e-01, 1.5230e-08, 1.6701e-05],\n",
       "        [1.1894e-01, 2.1785e-03, 8.7888e-01],\n",
       "        [1.2328e-04, 9.9897e-01, 9.1094e-04],\n",
       "        [1.0000e+00, 3.7751e-11, 1.8795e-12],\n",
       "        [9.9995e-01, 4.5398e-05, 1.1253e-07]])"
      ]
     },
     "execution_count": 5,
     "metadata": {},
     "output_type": "execute_result"
    }
   ],
   "source": [
    "softmax = torch.nn.Softmax(1)\n",
    "raspredelenie = softmax(dot_product)\n",
    "raspredelenie"
   ]
  },
  {
   "cell_type": "code",
   "execution_count": 6,
   "metadata": {},
   "outputs": [],
   "source": [
    "a = torch.sum(encoder_out * raspredelenie.unsqueeze(2), axis=1)"
   ]
  },
  {
   "cell_type": "code",
   "execution_count": 7,
   "metadata": {},
   "outputs": [
    {
     "data": {
      "text/plain": [
       "torch.Size([5, 10])"
      ]
     },
     "execution_count": 7,
     "metadata": {},
     "output_type": "execute_result"
    }
   ],
   "source": [
    "a.size()"
   ]
  },
  {
   "cell_type": "code",
   "execution_count": 9,
   "metadata": {},
   "outputs": [
    {
     "data": {
      "text/plain": [
       "torch.Size([5, 20])"
      ]
     },
     "execution_count": 9,
     "metadata": {},
     "output_type": "execute_result"
    }
   ],
   "source": [
    "torch.cat((h, a), 1).size()"
   ]
  }
 ],
 "metadata": {
  "kernelspec": {
   "display_name": "venv",
   "language": "python",
   "name": "python3"
  },
  "language_info": {
   "codemirror_mode": {
    "name": "ipython",
    "version": 3
   },
   "file_extension": ".py",
   "mimetype": "text/x-python",
   "name": "python",
   "nbconvert_exporter": "python",
   "pygments_lexer": "ipython3",
   "version": "3.10.11"
  }
 },
 "nbformat": 4,
 "nbformat_minor": 2
}
