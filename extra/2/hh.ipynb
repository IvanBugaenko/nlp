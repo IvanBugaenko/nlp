{
 "cells": [
  {
   "cell_type": "code",
   "execution_count": 2,
   "metadata": {},
   "outputs": [],
   "source": [
    "import requests\n",
    "import time\n",
    "import pandas as pd\n",
    "import numpy as np"
   ]
  },
  {
   "cell_type": "code",
   "execution_count": 159,
   "metadata": {},
   "outputs": [],
   "source": [
    "df = pd.DataFrame({\n",
    "    \"id_vacancy\": [],\n",
    "    \"job_vacancy\": [],\n",
    "    \"description\": [],\n",
    "    \"salary\": []\n",
    "})"
   ]
  },
  {
   "cell_type": "code",
   "execution_count": 173,
   "metadata": {},
   "outputs": [],
   "source": [
    "params = {\n",
    "    \"area\": 113,  # Россия\n",
    "    \"industry\": 7,  # https://api.hh.ru/industries // IT-сфера\n",
    "    \"per_page\": 50,\n",
    "}\n",
    "\n",
    "req = requests.get(\"https://api.hh.ru/vacancies/\", params).json()\n",
    "pages = req['pages']"
   ]
  },
  {
   "cell_type": "code",
   "execution_count": 87,
   "metadata": {},
   "outputs": [],
   "source": [
    "vacID = []\n",
    "for page in range(pages):\n",
    "    params.update({\"page\": page})\n",
    "    request = requests.get(\"https://api.hh.ru/vacancies/\", params)\n",
    "    vacancies = request.json()['items']\n",
    "    request.close()\n",
    "    for vacancy in vacancies:\n",
    "        vacID.append(vacancy['id'])"
   ]
  },
  {
   "cell_type": "code",
   "execution_count": 161,
   "metadata": {},
   "outputs": [],
   "source": [
    "vac_ID = np.array(vacID, dtype=int).reshape(4, -1)"
   ]
  },
  {
   "cell_type": "code",
   "execution_count": 137,
   "metadata": {},
   "outputs": [],
   "source": [
    "def salary(info: dict) -> float:\n",
    "    f = info['from']\n",
    "    t = info['to']\n",
    "    if f and t:\n",
    "        return (f + t) / 2\n",
    "    if f is None:\n",
    "        return t\n",
    "    return f"
   ]
  },
  {
   "cell_type": "code",
   "execution_count": 162,
   "metadata": {},
   "outputs": [],
   "source": [
    "def fill_df(vac_ID):\n",
    "    for id in vac_ID:\n",
    "        request = requests.get(f\"https://api.hh.ru/vacancies/{id}\")\n",
    "        vacancy_info = request.json()\n",
    "        request.close()\n",
    "        try:\n",
    "            job_vacancy = vacancy_info['name']\n",
    "            description = vacancy_info['description']\n",
    "            sal = vacancy_info['salary']\n",
    "            if job_vacancy and description and sal:\n",
    "                row = {\n",
    "                    \"id_vacancy\": id,\n",
    "                    \"job_vacancy\": job_vacancy,\n",
    "                    \"description\": description,\n",
    "                    \"salary\": salary(sal)\n",
    "                }\n",
    "                df.loc[len(df)] = row\n",
    "        except:\n",
    "            time.sleep(5)"
   ]
  },
  {
   "cell_type": "code",
   "execution_count": 163,
   "metadata": {},
   "outputs": [],
   "source": [
    "from concurrent.futures import ThreadPoolExecutor\n",
    "\n",
    "with ThreadPoolExecutor() as executor:\n",
    "    executor.submit(fill_df, vac_ID[0])\n",
    "    executor.submit(fill_df, vac_ID[1])\n",
    "    executor.submit(fill_df, vac_ID[2])\n",
    "    executor.submit(fill_df, vac_ID[3])"
   ]
  },
  {
   "cell_type": "code",
   "execution_count": 167,
   "metadata": {},
   "outputs": [],
   "source": [
    "df.to_csv(\"vacancies.csv\", sep='|', index=False)"
   ]
  }
 ],
 "metadata": {
  "kernelspec": {
   "display_name": "venv",
   "language": "python",
   "name": "python3"
  },
  "language_info": {
   "codemirror_mode": {
    "name": "ipython",
    "version": 3
   },
   "file_extension": ".py",
   "mimetype": "text/x-python",
   "name": "python",
   "nbconvert_exporter": "python",
   "pygments_lexer": "ipython3",
   "version": "3.10.11"
  },
  "orig_nbformat": 4
 },
 "nbformat": 4,
 "nbformat_minor": 2
}
